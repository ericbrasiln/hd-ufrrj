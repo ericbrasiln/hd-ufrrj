{
 "cells": [
  {
   "cell_type": "markdown",
   "metadata": {},
   "source": [
    "# Oficina de Ferramentas IV: OCR e leitura distante com NLP para a História"
   ]
  },
  {
   "cell_type": "markdown",
   "metadata": {},
   "source": [
    "## 1. OCR: o que é e como funciona?"
   ]
  },
  {
   "cell_type": "markdown",
   "metadata": {},
   "source": [
    "Chamamos de reconhecimento ótico de caracteres o processo computacional de aplicar um programa de computador para encontrar padrões de escrita em imagens e gerar um documento de texto como resultado. Esse processo é muito importante para as pesquisas históricas no geral, visto que parte significativa das fontes históricas utilizadas em nossas pesquisas ainda são constituídas por documentos escritos (impressões ou manuscritos) em papel.\n",
    "\n",
    "Desde os anos 1990, vemos o crescimento acelerado de projetos de digitalização em massa de documentos históricos. É muito recorrente que o objeto digital oriundo desse processo de digitalização seja uma imagem estática em formatos variados.\n",
    "\n",
    "Entretanto, para que possamos aplicar técnicas e ferramentas digitais, sejam elas bem simples como a busca de um termo, ou mais complexas como a aplicação de técnicas de processamento de linguagem natural ou modelagem de tópicos, precisamos transformar essas imagens em documentos de texto, onde os dados contidos nela possam ser estruturados de acordo com as metodologias e interesses das pesquisas.\n",
    "\n",
    "Para que isso seja possível, precisamos realizar o reconhecimento ótico de caracteres, ou OCR (optical character recognition), nesses conjuntos de imagens.\n",
    "\n",
    "Portanto, essa é uma etapa fundamental para pesquisas com jornais históricos digitalizados. Entretanto, esse não é um processo simples e demanda muito conhecimento computacional, máquinas potentes, e investimento de tempo e capital.\n",
    "\n",
    "Realizar esses processos de forma individualizada e sem acompanhamento de profissionais especializados muitas vezes se torna um desafio quase intransponível. O que é potencializado para o caso dos jornais históricos, pois eles agrupam características que impõem grandes entraves para o sucesso do OCR. Podemos listar alguns deles:\n",
    "\n",
    "- baixa qualidade da digitalização;\n",
    "- fontes muito variadas e desconhecidas para o computador;\n",
    "- layouts complexos, geralmente com grandes variações em uma mesma edição e com muitas colunas pouco claras;\n",
    "- muitos “ruídos” na imagem, como rasgos, rasuras, manchas, anotações, cortes, etc;\n"
   ]
  },
  {
   "cell_type": "markdown",
   "metadata": {},
   "source": [
    "### 1.1. Como funciona o OCR?\n",
    "\n",
    "O OCR é um processo que envolve diversas etapas, que podem ser resumidas em:\n",
    "\n",
    "1. **Pré-processamento**: é a etapa onde a imagem é tratada para que o OCR possa ser aplicado. Isso envolve a remoção de ruídos, ajuste de contraste, binarização, entre outros.\n",
    "2. **Segmentação**: é a etapa onde a imagem é dividida em regiões que contém texto. Isso é feito para que o OCR possa ser aplicado em cada região separadamente.\n",
    "3. **Reconhecimento de caracteres**: é a etapa onde o OCR de fato acontece. Aqui, o programa tenta identificar os caracteres presentes na imagem.\n",
    "4. **Pós-processamento**: é a etapa onde o texto reconhecido é tratado para corrigir erros e melhorar a qualidade do resultado final.\n",
    "\n"
   ]
  },
  {
   "cell_type": "markdown",
   "metadata": {},
   "source": [
    "---"
   ]
  },
  {
   "cell_type": "markdown",
   "metadata": {},
   "source": [
    "## 2. OCR com Tesseract\n",
    "\n",
    "O Tesseract é uma das ferramentas de OCR mais populares e amplamente utilizadas. Ele é um software livre e de código aberto e é capaz de reconhecer mais de 100 idiomas. O Tesseract atualmente é mantido pelo Google e é amplamente utilizado em diversos projetos de OCR. Veja um breve histórico [aqui](https://github.com/tesseract-ocr/tesseract?tab=readme-ov-file#brief-history).\n",
    "\n",
    "Vamos testar o tesseract com uma imagem simples de um texto através da linha de comando."
   ]
  },
  {
   "cell_type": "markdown",
   "metadata": {},
   "source": [
    "#### Instalação do Tesseract\n",
    "\n",
    "**Linux**: \n",
    "\n",
    "```bash\n",
    "sudo apt install tesseract-ocr\n",
    "sudo apt install libtesseract-dev\n",
    "```\n",
    "\n",
    "**Windows**: \n",
    "\n",
    "Acesse a página e baixe o instalador: [https://github.com/UB-Mannheim/tesseract/wiki#tesseract-installer-for-windows](https://github.com/UB-Mannheim/tesseract/wiki#tesseract-installer-for-windows)"
   ]
  },
  {
   "cell_type": "markdown",
   "metadata": {},
   "source": [
    "\n",
    "### OCR com Tesseract\n",
    "\n",
    "```bash\n",
    "tesseract INPUT_FILENAME.tiff OUTPUT_FILENAME -l por\n",
    "```\n"
   ]
  },
  {
   "cell_type": "markdown",
   "metadata": {},
   "source": [
    "Exportar para hOCR:\n",
    "\n",
    "```bash \n",
    "tesseract INPUT_FILENAME.tiff OUTPUT_FILENAME -l por hocr\n",
    "```\n"
   ]
  },
  {
   "cell_type": "markdown",
   "metadata": {},
   "source": [
    "### Pré-processamento com ImageMagick\n",
    "\n",
    "```bash\n",
    "convert -density 300 INPUT_FILENAME.pdf -depth 8 -strip -background white -alpha off OUTPUT_FILENAME.tiff\n",
    "```\n"
   ]
  },
  {
   "cell_type": "markdown",
   "metadata": {},
   "source": [
    "---\n"
   ]
  },
  {
   "cell_type": "markdown",
   "metadata": {},
   "source": [
    "## 3. OCR com Python"
   ]
  },
  {
   "cell_type": "markdown",
   "metadata": {},
   "source": [
    "Vamos criar um script em python para transformar cada página do pdf em tiff e depois aplicar o OCR com o Tesseract."
   ]
  },
  {
   "cell_type": "markdown",
   "metadata": {},
   "source": [
    "Vamos testar com o livro de Lima Barreto, Triste fim de Policarmo Quaresma.\n",
    "\n",
    "http://objdigital.bn.br/objdigital2/acervo_digital/div_obrasraras/or22535/or22535.pdf\n",
    "\n",
    "http://acervo.bndigital.bn.br/sophia/index.asp?codigo_sophia=56881"
   ]
  },
  {
   "cell_type": "markdown",
   "metadata": {},
   "source": [
    "Primeiro instale as bibliotecas necessárias:\n",
    "\n",
    "```bash\n",
    "pip install pdf2image pytesseract pillow numpy\n",
    "```"
   ]
  },
  {
   "cell_type": "markdown",
   "metadata": {},
   "source": [
    "Um script Python é um arquivo de texto com extensão `.py` que contém um conjunto de instruções que serão executadas pelo interpretador Python.\n",
    "\n",
    "As instruções serão executadas de cima para baixo, uma a uma, até o final do arquivo.\n",
    "\n",
    "Primeiro precisamos importar as bibliotecas necessárias para nosso script."
   ]
  },
  {
   "cell_type": "code",
   "execution_count": 2,
   "metadata": {},
   "outputs": [],
   "source": [
    "import os # biblioteca para manipulação de arquivos\n",
    "import pdf2image # biblioteca para converter pdf em imagem\n",
    "import pytesseract # biblioteca para reconhecimento de texto em imagem"
   ]
  },
  {
   "cell_type": "markdown",
   "metadata": {},
   "source": [
    "Agora vamos criar uma função para converter cada página do pdf em uma imagem tiff.\n",
    "\n",
    "Para isso, vamos utilizar a biblioteca pdf2image."
   ]
  },
  {
   "cell_type": "code",
   "execution_count": 3,
   "metadata": {},
   "outputs": [],
   "source": [
    "def pdf2img(pdf_path, img_path):\n",
    "    '''\n",
    "    Converte um arquivo PDF em imagens TIFF.\n",
    "    :param pdf_path: caminho do arquivo PDF\n",
    "    :param img_path: caminho do diretório de destino das imagens\n",
    "\n",
    "    Exemplo:\n",
    "    pdf2img(\"arquivo.pdf\", \"imagens\")\n",
    "    '''\n",
    "    # se o diretório de destino não existir, cria\n",
    "    if not os.path.exists(img_path):\n",
    "        os.makedirs(img_path)\n",
    "\n",
    "    # converte o PDF em imagens, com resolução de 300 DPI e escala de cinza\n",
    "    # a variável images é uma lista com as imagens geradas\n",
    "    images = pdf2image.convert_from_path(\n",
    "        pdf_path,\n",
    "        dpi=300,\n",
    "        fmt=\"tiff\",\n",
    "        grayscale=True)       \n",
    "\n",
    "    # salva as imagens no diretório de destino com o nome 0.tiff, 1.tiff, ...\n",
    "    for i, image in enumerate(images):\n",
    "        image.save(f\"{img_path}/{i}.tiff\", \"TIFF\")\n",
    "\n",
    "    print(f\"Arquivo {pdf_path} convertido com sucesso.\")"
   ]
  },
  {
   "cell_type": "code",
   "execution_count": 4,
   "metadata": {},
   "outputs": [],
   "source": [
    "# Função para salvar o texto extraído em um arquivo\n",
    "def save_text(text, txt_path):\n",
    "    '''\n",
    "    Salva um texto em um arquivo TXT.\n",
    "    :param text: texto a ser salvo\n",
    "    :param txt_path: caminho do arquivo TXT\n",
    "\n",
    "    Exemplo:\n",
    "    save_text(\"Olá, mundo!\", \"arquivo.txt\")\n",
    "    '''\n",
    "    with open(txt_path, \"w\") as file:\n",
    "        file.write(text)\n",
    "    print(f\"Texto salvo em {txt_path}\")"
   ]
  },
  {
   "cell_type": "code",
   "execution_count": 6,
   "metadata": {},
   "outputs": [],
   "source": [
    "# função para aplicar o OCR nas imagens com idioma por usando pytesseract\n",
    "def ocr(img_path, lang):\n",
    "    '''\n",
    "    Aplica OCR em imagens.\n",
    "    :param img_path: caminho do diretório com as imagens\n",
    "    :param lang: idioma\n",
    "\n",
    "    Exemplo:\n",
    "    ocr(\"imagens\", \"por\")\n",
    "    '''\n",
    "    # para cada imagem no diretório img_path aplica o OCR\n",
    "    for img in os.listdir(img_path):\n",
    "        text = pytesseract.image_to_string(\n",
    "            img_path + \"/\" + img, # imagem a ser lida\n",
    "            lang=lang, # idioma\n",
    "            config='--psm 6') # psm 6 é para tratar texto em bloco\n",
    "        print(f\"Texto extraído da imagem {img}\")\n",
    "        # salva o texto extraído em um arquivo\n",
    "        save_text(text, f\"{img_path}/{img}.txt\")"
   ]
  },
  {
   "cell_type": "code",
   "execution_count": 7,
   "metadata": {},
   "outputs": [],
   "source": [
    "pdf_path = \"assets/lima_barreto_dominio_publico.pdf\"\n",
    "img_path = \"assets/images_limabarreto\"\n",
    "lang = \"por\"\n"
   ]
  },
  {
   "cell_type": "code",
   "execution_count": null,
   "metadata": {},
   "outputs": [],
   "source": [
    "# chama a função pdf2img para converter o PDF em imagens\n",
    "pdf2img(pdf_path, img_path)\n"
   ]
  },
  {
   "cell_type": "code",
   "execution_count": null,
   "metadata": {},
   "outputs": [],
   "source": [
    "# chama a função ocr para aplicar o OCR nas imagens\n",
    "ocr(img_path, lang)"
   ]
  },
  {
   "cell_type": "code",
   "execution_count": 5,
   "metadata": {},
   "outputs": [],
   "source": [
    "# função para unir todos os textos extraídos em um único arquivo, respeitando a ordem das páginas\n",
    "# reuna apenas os arquivos .txt classificados em ordem crescente\n",
    "def merge_txt_files(txt_path, output_path):\n",
    "    '''\n",
    "    Une arquivos TXT em um único arquivo.\n",
    "    :param txt_path: caminho do diretório com os arquivos TXT\n",
    "    :param output_path: caminho do arquivo de saída\n",
    "\n",
    "    Exemplo:\n",
    "    merge_txt_files(\"imagens\", \"output.txt\")\n",
    "    '''\n",
    "    # lista os arquivos .txt no diretório txt_path\n",
    "    files = [f\"{txt_path}/{file}\" for file in os.listdir(txt_path) if file.endswith(\".txt\")]\n",
    "    # ordena os arquivos pelo nome (0.txt, 1.txt, ...)\n",
    "    # para isso utilizamos uma função lambda que extrai o número do nome do arquivo e converte para inteiro\n",
    "    files.sort(key=lambda x: int(x.split(\"/\")[-1].split(\".\")[0]))\n",
    "    \n",
    "    # para cada arquivo, lê o conteúdo e salva no arquivo de saída\n",
    "    with open(output_path, \"w\") as output:\n",
    "        for file in files:\n",
    "            print(f\"Unindo {file}\")\n",
    "            with open(file, \"r\") as f:\n",
    "                output.write(f.read())\n",
    "    print(f\"Arquivos unidos com sucesso em {output_path}\")"
   ]
  },
  {
   "cell_type": "code",
   "execution_count": null,
   "metadata": {},
   "outputs": [],
   "source": [
    "merge_txt_files(img_path, \"assets/quaresma.txt\")"
   ]
  }
 ],
 "metadata": {
  "kernelspec": {
   "display_name": "Python 3",
   "language": "python",
   "name": "python3"
  },
  "language_info": {
   "codemirror_mode": {
    "name": "ipython",
    "version": 3
   },
   "file_extension": ".py",
   "mimetype": "text/x-python",
   "name": "python",
   "nbconvert_exporter": "python",
   "pygments_lexer": "ipython3",
   "version": "3.10.12"
  }
 },
 "nbformat": 4,
 "nbformat_minor": 2
}
